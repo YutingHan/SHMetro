{
 "cells": [
  {
   "cell_type": "code",
   "execution_count": 29,
   "metadata": {},
   "outputs": [],
   "source": [
    "import pandas as pd\n",
    "import numpy as np"
   ]
  },
  {
   "cell_type": "code",
   "execution_count": 31,
   "metadata": {},
   "outputs": [
    {
     "data": {
      "text/html": [
       "<div>\n",
       "<style scoped>\n",
       "    .dataframe tbody tr th:only-of-type {\n",
       "        vertical-align: middle;\n",
       "    }\n",
       "\n",
       "    .dataframe tbody tr th {\n",
       "        vertical-align: top;\n",
       "    }\n",
       "\n",
       "    .dataframe thead th {\n",
       "        text-align: right;\n",
       "    }\n",
       "</style>\n",
       "<table border=\"1\" class=\"dataframe\">\n",
       "  <thead>\n",
       "    <tr style=\"text-align: right;\">\n",
       "      <th></th>\n",
       "      <th>LAT</th>\n",
       "      <th>LINE_NO</th>\n",
       "      <th>LNG</th>\n",
       "      <th>SERIAL_NO</th>\n",
       "      <th>ST_HORIZONTAL</th>\n",
       "      <th>ST_NAME</th>\n",
       "      <th>ST_NAME_EN</th>\n",
       "      <th>ST_NO</th>\n",
       "      <th>TRANSFER_TAG</th>\n",
       "      <th>X</th>\n",
       "      <th>Y</th>\n",
       "    </tr>\n",
       "  </thead>\n",
       "  <tbody>\n",
       "    <tr>\n",
       "      <th>马陆</th>\n",
       "      <td>31.319586</td>\n",
       "      <td>11</td>\n",
       "      <td>121.276874</td>\n",
       "      <td>9</td>\n",
       "      <td>高架</td>\n",
       "      <td>马陆</td>\n",
       "      <td>Malu</td>\n",
       "      <td>1135</td>\n",
       "      <td>普通站</td>\n",
       "      <td>200</td>\n",
       "      <td>226</td>\n",
       "    </tr>\n",
       "    <tr>\n",
       "      <th>共康路</th>\n",
       "      <td>31.319002</td>\n",
       "      <td>1</td>\n",
       "      <td>121.447024</td>\n",
       "      <td>7</td>\n",
       "      <td>高架</td>\n",
       "      <td>共康路</td>\n",
       "      <td>GongkangRoad</td>\n",
       "      <td>132</td>\n",
       "      <td>普通站</td>\n",
       "      <td>519</td>\n",
       "      <td>287</td>\n",
       "    </tr>\n",
       "    <tr>\n",
       "      <th>上海儿童医学中心</th>\n",
       "      <td>31.203228</td>\n",
       "      <td>6</td>\n",
       "      <td>121.523466</td>\n",
       "      <td>9</td>\n",
       "      <td>地下</td>\n",
       "      <td>上海儿童医学中心</td>\n",
       "      <td>ChildrenMedicalCenter</td>\n",
       "      <td>629</td>\n",
       "      <td>普通站</td>\n",
       "      <td>635</td>\n",
       "      <td>719</td>\n",
       "    </tr>\n",
       "  </tbody>\n",
       "</table>\n",
       "</div>"
      ],
      "text/plain": [
       "                LAT  LINE_NO         LNG  SERIAL_NO ST_HORIZONTAL   ST_NAME  \\\n",
       "马陆        31.319586       11  121.276874          9            高架        马陆   \n",
       "共康路       31.319002        1  121.447024          7            高架       共康路   \n",
       "上海儿童医学中心  31.203228        6  121.523466          9            地下  上海儿童医学中心   \n",
       "\n",
       "                     ST_NAME_EN  ST_NO TRANSFER_TAG    X    Y  \n",
       "马陆                         Malu   1135          普通站  200  226  \n",
       "共康路                GongkangRoad    132          普通站  519  287  \n",
       "上海儿童医学中心  ChildrenMedicalCenter    629          普通站  635  719  "
      ]
     },
     "execution_count": 31,
     "metadata": {},
     "output_type": "execute_result"
    }
   ],
   "source": [
    "stations_by_name=pd.read_json(\"stations_by_name.json\",orient='index')\n",
    "stations_by_name.head(3)\n"
   ]
  },
  {
   "cell_type": "code",
   "execution_count": 18,
   "metadata": {},
   "outputs": [
    {
     "data": {
      "text/html": [
       "<div>\n",
       "<style scoped>\n",
       "    .dataframe tbody tr th:only-of-type {\n",
       "        vertical-align: middle;\n",
       "    }\n",
       "\n",
       "    .dataframe tbody tr th {\n",
       "        vertical-align: top;\n",
       "    }\n",
       "\n",
       "    .dataframe thead th {\n",
       "        text-align: right;\n",
       "    }\n",
       "</style>\n",
       "<table border=\"1\" class=\"dataframe\">\n",
       "  <thead>\n",
       "    <tr style=\"text-align: right;\">\n",
       "      <th></th>\n",
       "      <th>LAT</th>\n",
       "      <th>LINE_NO</th>\n",
       "      <th>LNG</th>\n",
       "      <th>SERIAL_NO</th>\n",
       "      <th>ST_HORIZONTAL</th>\n",
       "      <th>ST_NAME</th>\n",
       "      <th>ST_NAME_EN</th>\n",
       "      <th>ST_NO</th>\n",
       "      <th>TRANSFER_TAG</th>\n",
       "      <th>X</th>\n",
       "      <th>Y</th>\n",
       "    </tr>\n",
       "  </thead>\n",
       "  <tbody>\n",
       "    <tr>\n",
       "      <th>马陆</th>\n",
       "      <td>31.319586</td>\n",
       "      <td>11</td>\n",
       "      <td>121.276874</td>\n",
       "      <td>9</td>\n",
       "      <td>高架</td>\n",
       "      <td>马陆</td>\n",
       "      <td>Malu</td>\n",
       "      <td>1135</td>\n",
       "      <td>普通站</td>\n",
       "      <td>200</td>\n",
       "      <td>226</td>\n",
       "    </tr>\n",
       "  </tbody>\n",
       "</table>\n",
       "</div>"
      ],
      "text/plain": [
       "          LAT  LINE_NO         LNG  SERIAL_NO ST_HORIZONTAL ST_NAME  \\\n",
       "马陆  31.319586       11  121.276874          9            高架      马陆   \n",
       "\n",
       "   ST_NAME_EN  ST_NO TRANSFER_TAG    X    Y  \n",
       "马陆       Malu   1135          普通站  200  226  "
      ]
     },
     "execution_count": 18,
     "metadata": {},
     "output_type": "execute_result"
    }
   ],
   "source": [
    "stations_by_name_with_alias=pd.read_json(\"stations_by_name_with_alias.json\",orient='index')\n",
    "stations_by_name_with_alias.head(1)"
   ]
  },
  {
   "cell_type": "code",
   "execution_count": 33,
   "metadata": {},
   "outputs": [
    {
     "data": {
      "text/html": [
       "<div>\n",
       "<style scoped>\n",
       "    .dataframe tbody tr th:only-of-type {\n",
       "        vertical-align: middle;\n",
       "    }\n",
       "\n",
       "    .dataframe tbody tr th {\n",
       "        vertical-align: top;\n",
       "    }\n",
       "\n",
       "    .dataframe thead th {\n",
       "        text-align: right;\n",
       "    }\n",
       "</style>\n",
       "<table border=\"1\" class=\"dataframe\">\n",
       "  <thead>\n",
       "    <tr style=\"text-align: right;\">\n",
       "      <th></th>\n",
       "      <th>0</th>\n",
       "      <th>1</th>\n",
       "      <th>2</th>\n",
       "      <th>3</th>\n",
       "      <th>4</th>\n",
       "      <th>5</th>\n",
       "    </tr>\n",
       "  </thead>\n",
       "  <tbody>\n",
       "    <tr>\n",
       "      <th>0</th>\n",
       "      <td>[300, 300, [[闵行开发区, 闵行开发区], 0], 0]</td>\n",
       "      <td>None</td>\n",
       "      <td>None</td>\n",
       "      <td>None</td>\n",
       "      <td>None</td>\n",
       "      <td>None</td>\n",
       "    </tr>\n",
       "    <tr>\n",
       "      <th>1</th>\n",
       "      <td>[301, 300, [[闵行开发区, 文井路], 0.5], 0]</td>\n",
       "      <td>None</td>\n",
       "      <td>None</td>\n",
       "      <td>None</td>\n",
       "      <td>None</td>\n",
       "      <td>None</td>\n",
       "    </tr>\n",
       "    <tr>\n",
       "      <th>2</th>\n",
       "      <td>[302, 300, [[文井路, 文井路], 0], 0]</td>\n",
       "      <td>None</td>\n",
       "      <td>None</td>\n",
       "      <td>None</td>\n",
       "      <td>None</td>\n",
       "      <td>None</td>\n",
       "    </tr>\n",
       "  </tbody>\n",
       "</table>\n",
       "</div>"
      ],
      "text/plain": [
       "                                    0     1     2     3     4     5\n",
       "0  [300, 300, [[闵行开发区, 闵行开发区], 0], 0]  None  None  None  None  None\n",
       "1  [301, 300, [[闵行开发区, 文井路], 0.5], 0]  None  None  None  None  None\n",
       "2      [302, 300, [[文井路, 文井路], 0], 0]  None  None  None  None  None"
      ]
     },
     "execution_count": 33,
     "metadata": {},
     "output_type": "execute_result"
    }
   ],
   "source": [
    "trains=pd.read_json(\"trains.json\",orient='column')\n",
    "trains.head(3)"
   ]
  },
  {
   "cell_type": "code",
   "execution_count": 32,
   "metadata": {},
   "outputs": [
    {
     "data": {
      "text/html": [
       "<div>\n",
       "<style scoped>\n",
       "    .dataframe tbody tr th:only-of-type {\n",
       "        vertical-align: middle;\n",
       "    }\n",
       "\n",
       "    .dataframe tbody tr th {\n",
       "        vertical-align: top;\n",
       "    }\n",
       "\n",
       "    .dataframe thead th {\n",
       "        text-align: right;\n",
       "    }\n",
       "</style>\n",
       "<table border=\"1\" class=\"dataframe\">\n",
       "  <thead>\n",
       "    <tr style=\"text-align: right;\">\n",
       "      <th></th>\n",
       "      <th>0</th>\n",
       "      <th>1</th>\n",
       "      <th>2</th>\n",
       "    </tr>\n",
       "  </thead>\n",
       "  <tbody>\n",
       "    <tr>\n",
       "      <th>0</th>\n",
       "      <td>富锦路</td>\n",
       "      <td>友谊西路</td>\n",
       "      <td>1</td>\n",
       "    </tr>\n",
       "    <tr>\n",
       "      <th>1</th>\n",
       "      <td>友谊西路</td>\n",
       "      <td>宝安公路</td>\n",
       "      <td>1</td>\n",
       "    </tr>\n",
       "    <tr>\n",
       "      <th>2</th>\n",
       "      <td>宝安公路</td>\n",
       "      <td>共富新村</td>\n",
       "      <td>1</td>\n",
       "    </tr>\n",
       "  </tbody>\n",
       "</table>\n",
       "</div>"
      ],
      "text/plain": [
       "      0     1  2\n",
       "0   富锦路  友谊西路  1\n",
       "1  友谊西路  宝安公路  1\n",
       "2  宝安公路  共富新村  1"
      ]
     },
     "execution_count": 32,
     "metadata": {},
     "output_type": "execute_result"
    }
   ],
   "source": [
    "connections_by_station_name=pd.read_json(\"connections_by_station_name.json\",orient='column')\n",
    "connections_by_station_name.head(3)"
   ]
  },
  {
   "cell_type": "code",
   "execution_count": 58,
   "metadata": {},
   "outputs": [
    {
     "data": {
      "text/plain": [
       "16"
      ]
     },
     "execution_count": 58,
     "metadata": {},
     "output_type": "execute_result"
    }
   ],
   "source": [
    "np.max(stations_by_name.LINE_NO)"
   ]
  },
  {
   "cell_type": "code",
   "execution_count": 3,
   "metadata": {},
   "outputs": [],
   "source": [
    "stations_by_name=pd.read_json(\"stations_by_name.json\",orient='index')\n",
    "stations_by_name.head(100)\n",
    "five=stations_by_name[stations_by_name[\"LINE_NO\"]==5]"
   ]
  },
  {
   "cell_type": "code",
   "execution_count": 6,
   "metadata": {},
   "outputs": [],
   "source": [
    "fiveConnection=connections_by_station_name[connections_by_station_name[2]==5]"
   ]
  },
  {
   "cell_type": "code",
   "execution_count": 7,
   "metadata": {},
   "outputs": [
    {
     "data": {
      "text/html": [
       "<div>\n",
       "<style scoped>\n",
       "    .dataframe tbody tr th:only-of-type {\n",
       "        vertical-align: middle;\n",
       "    }\n",
       "\n",
       "    .dataframe tbody tr th {\n",
       "        vertical-align: top;\n",
       "    }\n",
       "\n",
       "    .dataframe thead th {\n",
       "        text-align: right;\n",
       "    }\n",
       "</style>\n",
       "<table border=\"1\" class=\"dataframe\">\n",
       "  <thead>\n",
       "    <tr style=\"text-align: right;\">\n",
       "      <th></th>\n",
       "      <th>0</th>\n",
       "      <th>1</th>\n",
       "      <th>2</th>\n",
       "    </tr>\n",
       "  </thead>\n",
       "  <tbody>\n",
       "    <tr>\n",
       "      <th>210</th>\n",
       "      <td>莘庄</td>\n",
       "      <td>春申路</td>\n",
       "      <td>5</td>\n",
       "    </tr>\n",
       "    <tr>\n",
       "      <th>211</th>\n",
       "      <td>春申路</td>\n",
       "      <td>银都路</td>\n",
       "      <td>5</td>\n",
       "    </tr>\n",
       "    <tr>\n",
       "      <th>212</th>\n",
       "      <td>银都路</td>\n",
       "      <td>颛桥</td>\n",
       "      <td>5</td>\n",
       "    </tr>\n",
       "    <tr>\n",
       "      <th>213</th>\n",
       "      <td>颛桥</td>\n",
       "      <td>北桥</td>\n",
       "      <td>5</td>\n",
       "    </tr>\n",
       "    <tr>\n",
       "      <th>214</th>\n",
       "      <td>北桥</td>\n",
       "      <td>剑川路</td>\n",
       "      <td>5</td>\n",
       "    </tr>\n",
       "    <tr>\n",
       "      <th>215</th>\n",
       "      <td>剑川路</td>\n",
       "      <td>东川路</td>\n",
       "      <td>5</td>\n",
       "    </tr>\n",
       "    <tr>\n",
       "      <th>216</th>\n",
       "      <td>东川路</td>\n",
       "      <td>金平路</td>\n",
       "      <td>5</td>\n",
       "    </tr>\n",
       "    <tr>\n",
       "      <th>217</th>\n",
       "      <td>金平路</td>\n",
       "      <td>华宁路</td>\n",
       "      <td>5</td>\n",
       "    </tr>\n",
       "    <tr>\n",
       "      <th>218</th>\n",
       "      <td>华宁路</td>\n",
       "      <td>文井路</td>\n",
       "      <td>5</td>\n",
       "    </tr>\n",
       "    <tr>\n",
       "      <th>219</th>\n",
       "      <td>文井路</td>\n",
       "      <td>闵行开发区</td>\n",
       "      <td>5</td>\n",
       "    </tr>\n",
       "  </tbody>\n",
       "</table>\n",
       "</div>"
      ],
      "text/plain": [
       "       0      1  2\n",
       "210   莘庄    春申路  5\n",
       "211  春申路    银都路  5\n",
       "212  银都路     颛桥  5\n",
       "213   颛桥     北桥  5\n",
       "214   北桥    剑川路  5\n",
       "215  剑川路    东川路  5\n",
       "216  东川路    金平路  5\n",
       "217  金平路    华宁路  5\n",
       "218  华宁路    文井路  5\n",
       "219  文井路  闵行开发区  5"
      ]
     },
     "execution_count": 7,
     "metadata": {},
     "output_type": "execute_result"
    }
   ],
   "source": [
    "fiveConnection"
   ]
  },
  {
   "cell_type": "code",
   "execution_count": 21,
   "metadata": {},
   "outputs": [],
   "source": [
    "five.to_json(r\"/Users/HYT/Desktop/CS573 Data Visualization/git/SHMetro/fiveLineNode.json\",orient='index',force_ascii=False)\n",
    "{\"金平路\":{\"LAT\":31.011239,\"LINE_NO\":5,\"LNG\":121.410083,\"SERIAL_NO\":8,\"ST_HORIZONTAL\":\"高架\",\"ST_NAME\":\"金平路\",\"ST_NAME_EN\":\"JinpingRoad\",\"ST_NO\":510,\"TRANSFER_TAG\":\"普通站\",\"X\":\"179\",\"Y\":\"965\"},\"东川路\":{\"LAT\":31.018154,\"LINE_NO\":5,\"LNG\":121.419868,\"SERIAL_NO\":7,\"ST_HORIZONTAL\":\"高架\",\"ST_NAME\":\"东川路\",\"ST_NAME_EN\":\"DongchuanRoad\",\"ST_NO\":509,\"TRANSFER_TAG\":\"普通站\",\"X\":\"217\",\"Y\":\"981\"},\"莘庄\":{\"LAT\":31.111232,\"LINE_NO\":5,\"LNG\":121.385364,\"SERIAL_NO\":1,\"ST_HORIZONTAL\":\"高架\",\"ST_NAME\":\"莘庄\",\"ST_NAME_EN\":\"Xinzhuang\",\"ST_NO\":501,\"TRANSFER_TAG\":\"换乘站\",\"X\":\"201\",\"Y\":\"771\"},\"华宁路\":{\"LAT\":31.007414,\"LINE_NO\":5,\"LNG\":121.395234,\"SERIAL_NO\":9,\"ST_HORIZONTAL\":\"高架\",\"ST_NAME\":\"华宁路\",\"ST_NAME_EN\":\"HuaningRoad\",\"ST_NO\":511,\"TRANSFER_TAG\":\"普通站\",\"X\":\"157\",\"Y\":\"964\"},\"北桥\":{\"LAT\":31.045109,\"LINE_NO\":5,\"LNG\":121.410126,\"SERIAL_NO\":5,\"ST_HORIZONTAL\":\"高架\",\"ST_NAME\":\"北桥\",\"ST_NAME_EN\":\"Beiqiao\",\"ST_NO\":507,\"TRANSFER_TAG\":\"普通站\",\"X\":\"219\",\"Y\":\"932\"},\"闵行开发区\":{\"LAT\":31.000572,\"LINE_NO\":5,\"LNG\":121.369657,\"SERIAL_NO\":11,\"ST_HORIZONTAL\":\"高架\",\"ST_NAME\":\"闵行开发区\",\"ST_NAME_EN\":\"MinhangDevelopmentZone\",\"ST_NO\":513,\"TRANSFER_TAG\":\"普通站\",\"X\":\"96\",\"Y\":\"943\"},\"剑川路\":{\"LAT\":31.026466,\"LINE_NO\":5,\"LNG\":121.416563,\"SERIAL_NO\":6,\"ST_HORIZONTAL\":\"高架\",\"ST_NAME\":\"剑川路\",\"ST_NAME_EN\":\"JianchuanRoad\",\"ST_NO\":508,\"TRANSFER_TAG\":\"普通站\",\"X\":\"218\",\"Y\":\"956\"},\"文井路\":{\"LAT\":31.003588,\"LINE_NO\":5,\"LNG\":121.380858,\"SERIAL_NO\":10,\"ST_HORIZONTAL\":\"高架\",\"ST_NAME\":\"文井路\",\"ST_NAME_EN\":\"WenjingRoad\",\"ST_NO\":512,\"TRANSFER_TAG\":\"普通站\",\"X\":\"126\",\"Y\":\"963\"},\"银都路\":{\"LAT\":31.089367,\"LINE_NO\":5,\"LNG\":121.390342,\"SERIAL_NO\":3,\"ST_HORIZONTAL\":\"高架\",\"ST_NAME\":\"银都路\",\"ST_NAME_EN\":\"YinduRoad\",\"ST_NO\":503,\"TRANSFER_TAG\":\"普通站\",\"X\":\"219\",\"Y\":\"885\"},\"颛桥\":{\"LAT\":31.066983,\"LINE_NO\":5,\"LNG\":121.401843,\"SERIAL_NO\":4,\"ST_HORIZONTAL\":\"高架\",\"ST_NAME\":\"颛桥\",\"ST_NAME_EN\":\"Zhuanqiao\",\"ST_NO\":505,\"TRANSFER_TAG\":\"普通站\",\"X\":\"220\",\"Y\":\"910\"},\"春申路\":{\"LAT\":31.098114,\"LINE_NO\":5,\"LNG\":121.385922,\"SERIAL_NO\":2,\"ST_HORIZONTAL\":\"高架\",\"ST_NAME\":\"春申路\",\"ST_NAME_EN\":\"ChunshenRoad\",\"ST_NO\":502,\"TRANSFER_TAG\":\"普通站\",\"X\":\"218\",\"Y\":\"861\"}}"
   ]
  },
  {
   "cell_type": "code",
   "execution_count": 28,
   "metadata": {},
   "outputs": [],
   "source": [
    "fiveConnection.to_json(r\"/Users/HYT/Desktop/CS573 Data Visualization/git/SHMetro/fiveLineConnection.json\",orient='values',force_ascii=False)\n",
    "\n"
   ]
  },
  {
   "cell_type": "code",
   "execution_count": null,
   "metadata": {},
   "outputs": [],
   "source": []
  }
 ],
 "metadata": {
  "kernelspec": {
   "display_name": "Python 3",
   "language": "python",
   "name": "python3"
  },
  "language_info": {
   "codemirror_mode": {
    "name": "ipython",
    "version": 3
   },
   "file_extension": ".py",
   "mimetype": "text/x-python",
   "name": "python",
   "nbconvert_exporter": "python",
   "pygments_lexer": "ipython3",
   "version": "3.6.5"
  }
 },
 "nbformat": 4,
 "nbformat_minor": 2
}
